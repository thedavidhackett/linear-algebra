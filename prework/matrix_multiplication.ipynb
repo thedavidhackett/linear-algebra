{
 "cells": [
  {
   "cell_type": "code",
   "execution_count": 1,
   "id": "40d517bb",
   "metadata": {},
   "outputs": [],
   "source": [
    "import numpy as np"
   ]
  },
  {
   "cell_type": "code",
   "execution_count": 3,
   "id": "a991ce86",
   "metadata": {},
   "outputs": [
    {
     "data": {
      "text/plain": [
       "array([[ 7, 14],\n",
       "       [21, 28]])"
      ]
     },
     "execution_count": 3,
     "metadata": {},
     "output_type": "execute_result"
    }
   ],
   "source": [
    "a = 7\n",
    "B = [[1,2],\n",
    "    [3, 4]]\n",
    "\n",
    "np.dot(a, B)"
   ]
  },
  {
   "cell_type": "code",
   "execution_count": 4,
   "id": "d1ebe737",
   "metadata": {},
   "outputs": [
    {
     "data": {
      "text/plain": [
       "array([[19, 22],\n",
       "       [43, 50]])"
      ]
     },
     "execution_count": 4,
     "metadata": {},
     "output_type": "execute_result"
    }
   ],
   "source": [
    "A = [[1,2],\n",
    " [3,4]]\n",
    "B = [[5,6],\n",
    " [7,8]]\n",
    "np.dot(A,B)"
   ]
  },
  {
   "cell_type": "code",
   "execution_count": 5,
   "id": "bd18f8cc",
   "metadata": {},
   "outputs": [
    {
     "data": {
      "text/plain": [
       "array([[23, 34],\n",
       "       [31, 46]])"
      ]
     },
     "execution_count": 5,
     "metadata": {},
     "output_type": "execute_result"
    }
   ],
   "source": [
    "np.dot(B,A)"
   ]
  },
  {
   "cell_type": "code",
   "execution_count": 9,
   "id": "12dbe052",
   "metadata": {},
   "outputs": [],
   "source": [
    "# settlers example\n",
    "#[wood, brick, sheep, wheat , ore]\n",
    "\n",
    "resources = [[1, 1, 0, 0, 0],\n",
    "    [1, 1, 1, 1, 0],\n",
    "    [0, 0, 0, 2, 3],\n",
    "    [0, 0, 1, 1, 1]]\n",
    "\n",
    "resource_costs = [1, 2, 3, 5, 8]\n",
    "\n",
    "total_costs = np.dot(resources, resource_costs)"
   ]
  },
  {
   "cell_type": "code",
   "execution_count": 10,
   "id": "39116e5e",
   "metadata": {},
   "outputs": [
    {
     "data": {
      "text/plain": [
       "array([ 3, 11, 34, 16])"
      ]
     },
     "execution_count": 10,
     "metadata": {},
     "output_type": "execute_result"
    }
   ],
   "source": [
    "total_costs"
   ]
  },
  {
   "cell_type": "code",
   "execution_count": 12,
   "id": "a26a5cc0",
   "metadata": {},
   "outputs": [],
   "source": [
    "amounts = [6, 2, 1, 0]\n",
    "resource_req = np.dot(amounts, resources)"
   ]
  },
  {
   "cell_type": "code",
   "execution_count": 13,
   "id": "26b11b49",
   "metadata": {},
   "outputs": [
    {
     "data": {
      "text/plain": [
       "array([8, 8, 2, 4, 3])"
      ]
     },
     "execution_count": 13,
     "metadata": {},
     "output_type": "execute_result"
    }
   ],
   "source": [
    "resource_req"
   ]
  },
  {
   "cell_type": "code",
   "execution_count": null,
   "id": "8ddd595a",
   "metadata": {},
   "outputs": [],
   "source": [
    "total_order_cost = np.dot(resourc)"
   ]
  }
 ],
 "metadata": {
  "kernelspec": {
   "display_name": "Python 3",
   "language": "python",
   "name": "python3"
  },
  "language_info": {
   "codemirror_mode": {
    "name": "ipython",
    "version": 3
   },
   "file_extension": ".py",
   "mimetype": "text/x-python",
   "name": "python",
   "nbconvert_exporter": "python",
   "pygments_lexer": "ipython3",
   "version": "3.9.9"
  }
 },
 "nbformat": 4,
 "nbformat_minor": 5
}
