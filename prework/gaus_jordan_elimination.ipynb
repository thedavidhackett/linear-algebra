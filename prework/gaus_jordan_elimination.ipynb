{
 "cells": [
  {
   "cell_type": "code",
   "execution_count": 1,
   "id": "6c5adefd",
   "metadata": {},
   "outputs": [],
   "source": [
    "import numpy as np"
   ]
  },
  {
   "cell_type": "code",
   "execution_count": 2,
   "id": "1229ccb6",
   "metadata": {},
   "outputs": [],
   "source": [
    "A = np.array([[2, -3, 1],\n",
    "              [1, -1, 2],\n",
    "              [3, 1, -1]])"
   ]
  },
  {
   "cell_type": "code",
   "execution_count": 3,
   "id": "1d5f4a1d",
   "metadata": {},
   "outputs": [],
   "source": [
    "b = np.array([-1, -3, 9])"
   ]
  },
  {
   "cell_type": "code",
   "execution_count": 4,
   "id": "def34846",
   "metadata": {},
   "outputs": [
    {
     "data": {
      "text/plain": [
       "array([ 2.,  1., -2.])"
      ]
     },
     "execution_count": 4,
     "metadata": {},
     "output_type": "execute_result"
    }
   ],
   "source": [
    "np.linalg.solve(A, b)"
   ]
  },
  {
   "cell_type": "code",
   "execution_count": 5,
   "id": "99f8f2ce",
   "metadata": {},
   "outputs": [
    {
     "data": {
      "text/plain": [
       "array([[ 0.05263158,  0.10526316,  0.26315789],\n",
       "       [-0.36842105,  0.26315789,  0.15789474],\n",
       "       [-0.21052632,  0.57894737, -0.05263158]])"
      ]
     },
     "execution_count": 5,
     "metadata": {},
     "output_type": "execute_result"
    }
   ],
   "source": [
    "np.linalg.inv(A)"
   ]
  },
  {
   "cell_type": "code",
   "execution_count": 7,
   "id": "56e36edb",
   "metadata": {},
   "outputs": [
    {
     "name": "stdout",
     "output_type": "stream",
     "text": [
      "Collecting sympy\n",
      "  Downloading sympy-1.9-py3-none-any.whl (6.2 MB)\n",
      "     |████████████████████████████████| 6.2 MB 4.9 MB/s            \n",
      "\u001b[?25hCollecting mpmath>=0.19\n",
      "  Downloading mpmath-1.2.1-py3-none-any.whl (532 kB)\n",
      "     |████████████████████████████████| 532 kB 20.4 MB/s            \n",
      "\u001b[?25hInstalling collected packages: mpmath, sympy\n",
      "Successfully installed mpmath-1.2.1 sympy-1.9\n",
      "Note: you may need to restart the kernel to use updated packages.\n"
     ]
    }
   ],
   "source": [
    "pip install sympy"
   ]
  },
  {
   "cell_type": "code",
   "execution_count": 8,
   "id": "1cc8ca4f",
   "metadata": {},
   "outputs": [
    {
     "data": {
      "text/latex": [
       "$\\displaystyle \\left[\\begin{matrix}1 & 0 & 0 & 2\\\\0 & 1 & 0 & 1\\\\0 & 0 & 1 & -2\\end{matrix}\\right]$"
      ],
      "text/plain": [
       "Matrix([\n",
       "[1, 0, 0,  2],\n",
       "[0, 1, 0,  1],\n",
       "[0, 0, 1, -2]])"
      ]
     },
     "execution_count": 8,
     "metadata": {},
     "output_type": "execute_result"
    }
   ],
   "source": [
    "from sympy import *\n",
    "\n",
    "augmented_A = Matrix([[2, -3, 1, -1],\n",
    "                      [1, -1, 2, -3],\n",
    "                      [3, 1, -1, 9]])\n",
    "\n",
    "augmented_A.rref()[0]"
   ]
  },
  {
   "cell_type": "code",
   "execution_count": 9,
   "id": "7eb43d59",
   "metadata": {},
   "outputs": [
    {
     "data": {
      "text/latex": [
       "$\\displaystyle \\left[\\begin{matrix}1 & 0 & \\frac{1}{3} & 0\\\\0 & 1 & - \\frac{11}{3} & 0\\\\0 & 0 & 0 & 1\\end{matrix}\\right]$"
      ],
      "text/plain": [
       "Matrix([\n",
       "[1, 0,   1/3, 0],\n",
       "[0, 1, -11/3, 0],\n",
       "[0, 0,     0, 1]])"
      ]
     },
     "execution_count": 9,
     "metadata": {},
     "output_type": "execute_result"
    }
   ],
   "source": [
    "augmented_A = Matrix([[1, -1, 4, -5],\n",
    "                      [3, 0, 1, 0],\n",
    "                      [-1, 1, -4, 20]])\n",
    "\n",
    "augmented_A.rref()[0]"
   ]
  },
  {
   "cell_type": "code",
   "execution_count": 10,
   "id": "676d7e67",
   "metadata": {},
   "outputs": [
    {
     "data": {
      "text/latex": [
       "$\\displaystyle \\left[\\begin{matrix}1 & 0 & -1 & 2\\\\0 & 1 & 1 & 2\\\\0 & 0 & 0 & 0\\end{matrix}\\right]$"
      ],
      "text/plain": [
       "Matrix([\n",
       "[1, 0, -1, 2],\n",
       "[0, 1,  1, 2],\n",
       "[0, 0,  0, 0]])"
      ]
     },
     "execution_count": 10,
     "metadata": {},
     "output_type": "execute_result"
    }
   ],
   "source": [
    "augmented_A = Matrix([[-1, 1, 2, 0],\n",
    "                      [1, 2, 1, 6],\n",
    "                      [-2, -1, 1, -6]])\n",
    "\n",
    "augmented_A.rref()[0]"
   ]
  },
  {
   "cell_type": "code",
   "execution_count": 11,
   "id": "227eaa1f",
   "metadata": {},
   "outputs": [],
   "source": [
    "A = np.array([\n",
    "    [2, 5, 2],\n",
    "    [3, -2, 4],\n",
    "    [-6, 1, -7]\n",
    "])\n",
    "\n",
    "b = np.array([-38, 17, -12])"
   ]
  },
  {
   "cell_type": "code",
   "execution_count": 12,
   "id": "f350208c",
   "metadata": {},
   "outputs": [
    {
     "data": {
      "text/plain": [
       "array([ 3., -8., -2.])"
      ]
     },
     "execution_count": 12,
     "metadata": {},
     "output_type": "execute_result"
    }
   ],
   "source": [
    "np.linalg.solve(A, b)"
   ]
  },
  {
   "cell_type": "code",
   "execution_count": 13,
   "id": "63a41227",
   "metadata": {},
   "outputs": [],
   "source": [
    "A = np.array([\n",
    "    [3, 0, -9],\n",
    "    [7, -4, -1],\n",
    "    [4, 6, 5]\n",
    "])\n",
    "\n",
    "b = np.array([33, -15, -6])"
   ]
  },
  {
   "cell_type": "code",
   "execution_count": 14,
   "id": "d6f97a5f",
   "metadata": {},
   "outputs": [
    {
     "data": {
      "text/plain": [
       "array([-1.,  3., -4.])"
      ]
     },
     "execution_count": 14,
     "metadata": {},
     "output_type": "execute_result"
    }
   ],
   "source": [
    "np.linalg.solve(A, b)"
   ]
  },
  {
   "cell_type": "code",
   "execution_count": null,
   "id": "38875ecb",
   "metadata": {},
   "outputs": [],
   "source": [
    " ,"
   ]
  }
 ],
 "metadata": {
  "kernelspec": {
   "display_name": "Python 3",
   "language": "python",
   "name": "python3"
  },
  "language_info": {
   "codemirror_mode": {
    "name": "ipython",
    "version": 3
   },
   "file_extension": ".py",
   "mimetype": "text/x-python",
   "name": "python",
   "nbconvert_exporter": "python",
   "pygments_lexer": "ipython3",
   "version": "3.9.9"
  }
 },
 "nbformat": 4,
 "nbformat_minor": 5
}
