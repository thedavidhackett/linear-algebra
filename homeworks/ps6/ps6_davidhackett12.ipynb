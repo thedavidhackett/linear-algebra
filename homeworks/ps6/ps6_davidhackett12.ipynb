{
 "cells": [
  {
   "cell_type": "code",
   "execution_count": 1,
   "id": "82236c6b",
   "metadata": {},
   "outputs": [],
   "source": [
    "from ps6_davidhackett12 import *\n",
    "import numpy as np"
   ]
  },
  {
   "cell_type": "markdown",
   "id": "4058e800",
   "metadata": {},
   "source": [
    "## Forward Elimination\n",
    "\n",
    "Forward elimination works very similarly to the previous problem set. It does return A in row echelon form, as well as the pivots in a list with the index representing the row and the value representing the pivot column. It also returns rank and optionally will perform the same row operations on a vector b. I created a test forward elimination function that utilzes an A with a known R, rank, and pivot columns."
   ]
  },
  {
   "cell_type": "code",
   "execution_count": 2,
   "id": "b1005841",
   "metadata": {},
   "outputs": [
    {
     "name": "stdout",
     "output_type": "stream",
     "text": [
      "Input A:\n",
      "[[1. 3. 1. 2.]\n",
      " [2. 6. 4. 8.]\n",
      " [0. 0. 2. 4.]]\n",
      "\n",
      "R expected:\n",
      "[[1. 3. 1. 2.]\n",
      " [0. 0. 2. 4.]\n",
      " [0. 0. 0. 0.]]\n",
      "vs R output\n",
      "[[1. 3. 1. 2.]\n",
      " [0. 0. 2. 4.]\n",
      " [0. 0. 0. 0.]]\n",
      "\n",
      "Expected Rank and Pivots:\n",
      " 2, [0, 2]\n",
      "\n",
      "Output Rank and Pivots:\n",
      " 2, [0, 2]\n",
      "Test successful\n"
     ]
    }
   ],
   "source": [
    "test_forward_elimination()"
   ]
  },
  {
   "cell_type": "markdown",
   "id": "fd5ac73c",
   "metadata": {},
   "source": [
    "## Generate a random matrix\n",
    "\n",
    "The generate random system function generates a random A and a random b that can either be solved or not solved. It take in a value for the shape of the matrix, the columns that should have pivots, and if the system should be solvable (its solvable by default)"
   ]
  },
  {
   "cell_type": "code",
   "execution_count": 3,
   "id": "a633f1dd",
   "metadata": {},
   "outputs": [
    {
     "name": "stdout",
     "output_type": "stream",
     "text": [
      "[[-0.2076522  -0.18622246  0.33994581]\n",
      " [ 2.69626534  2.41801031  2.27957262]\n",
      " [ 1.19054075  1.06767675 -0.75688965]\n",
      " [-0.30835322 -0.27653112  0.4011682 ]]\n"
     ]
    }
   ],
   "source": [
    "A, b = generate_random_system((4,3), [0, 2], True)\n",
    "print(A)"
   ]
  },
  {
   "cell_type": "markdown",
   "id": "2163818d",
   "metadata": {},
   "source": [
    "Some matrices always have solutions, for example a full rank square matrix. Generate random system will catch this with a custom exception"
   ]
  },
  {
   "cell_type": "code",
   "execution_count": 4,
   "id": "bbaca4d2",
   "metadata": {},
   "outputs": [
    {
     "name": "stdout",
     "output_type": "stream",
     "text": [
      "shape (2, 2) with pivots [0, 1] will always be solvable\n"
     ]
    }
   ],
   "source": [
    "try:\n",
    "    generate_random_system((2,2), [0,1], False)\n",
    "except UnsolvableException as e:\n",
    "    print(e)"
   ]
  },
  {
   "cell_type": "markdown",
   "id": "02fdcf1d",
   "metadata": {},
   "source": [
    "Also if you try to make a matrix with pivot cols that won't work, for example a matrix with the same pivot column for two rows"
   ]
  },
  {
   "cell_type": "code",
   "execution_count": 5,
   "id": "7d9d779e",
   "metadata": {},
   "outputs": [
    {
     "name": "stdout",
     "output_type": "stream",
     "text": [
      "The pivots are out of order or duplicate columns\n"
     ]
    }
   ],
   "source": [
    "try:\n",
    "    generate_random_system((2,2), [0,0], True)\n",
    "except PivotException as e:\n",
    "    print(e)"
   ]
  },
  {
   "cell_type": "markdown",
   "id": "f17d8a29",
   "metadata": {},
   "source": [
    "We can also see that the pivots are correct by using forward elimination"
   ]
  },
  {
   "cell_type": "code",
   "execution_count": 6,
   "id": "535a4d50",
   "metadata": {},
   "outputs": [
    {
     "name": "stdout",
     "output_type": "stream",
     "text": [
      "[0, 2]\n"
     ]
    }
   ],
   "source": [
    "A, b = generate_random_system((3,3), [0, 2], True)\n",
    "_, pivots, _, _ = forward_elimination(A)\n",
    "print(pivots)"
   ]
  },
  {
   "cell_type": "markdown",
   "id": "6cf603fb",
   "metadata": {},
   "source": [
    "## Solve a matrix completely\n",
    "\n",
    "Takes in an A and b and returns xp, a particular solution, and xn the null space for the matrix. Each column of xn is a vector in the null space. If the null space is only 0 it will return the 0 vector as a matrix column, if A has no solutions it will return none for xp."
   ]
  },
  {
   "cell_type": "code",
   "execution_count": 7,
   "id": "5b5ad134",
   "metadata": {},
   "outputs": [
    {
     "name": "stdout",
     "output_type": "stream",
     "text": [
      "xp: [2.19747454 1.91426231 0.         0.        ]\n",
      "\n",
      "xn: [[-0.84388571 -1.01479363]\n",
      " [-0.82497964 -1.32017348]\n",
      " [ 1.          0.        ]\n",
      " [ 0.          1.        ]]\n"
     ]
    }
   ],
   "source": [
    "# At least one particular solution and Ax = 0 has a nontrivial solution\n",
    "A, b = generate_random_system((3,4), [0, 1])\n",
    "xp, xn = solve_completely(A, b)\n",
    "print(f\"xp: {xp}\\n\")\n",
    "print(f\"xn: {xn}\")"
   ]
  },
  {
   "cell_type": "code",
   "execution_count": 8,
   "id": "0d0911f4",
   "metadata": {},
   "outputs": [
    {
     "name": "stdout",
     "output_type": "stream",
     "text": [
      "xp: None\n",
      "\n",
      "xn: [[-0.177561   -0.62731591]\n",
      " [ 1.          0.        ]\n",
      " [ 0.         -0.52692256]\n",
      " [ 0.          1.        ]]\n"
     ]
    }
   ],
   "source": [
    "# No solution and Ax = 0 has a nontrivial solution\n",
    "A, b = generate_random_system((3,4), [0, 2], False)\n",
    "xp, xn = solve_completely(A, b)\n",
    "print(f\"xp: {xp}\\n\")\n",
    "print(f\"xn: {xn}\")"
   ]
  },
  {
   "cell_type": "code",
   "execution_count": 9,
   "id": "3332b4f8",
   "metadata": {},
   "outputs": [
    {
     "name": "stdout",
     "output_type": "stream",
     "text": [
      "xp: [1.4910784  0.56959176 0.70200897 0.        ]\n",
      "\n",
      "xn: [[0.]\n",
      " [0.]\n",
      " [0.]\n",
      " [0.]]\n"
     ]
    }
   ],
   "source": [
    "# At least one particular solution and Ax = 0 only has the 0 vector as a solution\n",
    "A, b = generate_random_system((3,4), [0, 1, 2])\n",
    "xp, xn = solve_completely(A, b)\n",
    "print(f\"xp: {xp}\\n\")\n",
    "print(f\"xn: {xn}\")"
   ]
  },
  {
   "cell_type": "markdown",
   "id": "2650e157",
   "metadata": {},
   "source": [
    "## Testing on a series of random matrices\n",
    "\n",
    "Test solve completely will take an A and b and whether the system is solvable (default is true) and check whether solve completely worked as expected by plugging the particular solution x and X back into Ax = b and seeing if the b matches the input. It chooses a random column from X and multiplies it by a random coefficient. If not solvable it will check is xp = None"
   ]
  },
  {
   "cell_type": "code",
   "execution_count": 10,
   "id": "99658f78",
   "metadata": {},
   "outputs": [
    {
     "name": "stdout",
     "output_type": "stream",
     "text": [
      "success\n"
     ]
    }
   ],
   "source": [
    "A, b = generate_random_system((3,4), [0, 1], True)\n",
    "try:\n",
    "    test_solve_completely(A, b, True)\n",
    "    print(\"success\")\n",
    "except AssertionError:\n",
    "    print(\"failure\")"
   ]
  },
  {
   "cell_type": "markdown",
   "id": "9089d94d",
   "metadata": {},
   "source": [
    "Now test solve completely on random generates various shapes of matrices with different pivot columns and runs test solve completely on each of the randomly generated systems (1 solvable and 1 not). It prints any linear system that produced an error and will print the number of tests passed and failed at the end."
   ]
  },
  {
   "cell_type": "code",
   "execution_count": 11,
   "id": "0e4bb648",
   "metadata": {},
   "outputs": [
    {
     "name": "stdout",
     "output_type": "stream",
     "text": [
      "Tests Passed: 22 \n",
      "Tests Failed: 0\n"
     ]
    }
   ],
   "source": [
    "test_solve_completely_on_random()"
   ]
  },
  {
   "cell_type": "code",
   "execution_count": null,
   "id": "ae4189af",
   "metadata": {},
   "outputs": [],
   "source": []
  }
 ],
 "metadata": {
  "kernelspec": {
   "display_name": "Python 3",
   "language": "python",
   "name": "python3"
  },
  "language_info": {
   "codemirror_mode": {
    "name": "ipython",
    "version": 3
   },
   "file_extension": ".py",
   "mimetype": "text/x-python",
   "name": "python",
   "nbconvert_exporter": "python",
   "pygments_lexer": "ipython3",
   "version": "3.8.8"
  }
 },
 "nbformat": 4,
 "nbformat_minor": 5
}
