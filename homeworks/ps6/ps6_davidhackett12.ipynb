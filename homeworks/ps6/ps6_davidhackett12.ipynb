{
 "cells": [
  {
   "cell_type": "code",
   "execution_count": 1,
   "id": "82236c6b",
   "metadata": {},
   "outputs": [],
   "source": [
    "from ps6_davidhackett12 import *\n",
    "import numpy as np"
   ]
  },
  {
   "cell_type": "code",
   "execution_count": 2,
   "id": "2c27ff7b",
   "metadata": {},
   "outputs": [],
   "source": [
    "A1 = np.array([\n",
    "     [1.0 ,3.0, 1.0],\n",
    "     [3.0, 8.0, 2.0],\n",
    "     [2.0, 4.0, 0.0]\n",
    "])\n",
    "\n",
    "A2 = np.array([\n",
    "     [1.0, 3.0, 1.0, 2.0],\n",
    "     [2.0, 6.0, 4.0, 8.0],\n",
    "     [0.0, 0.0, 2.0, 4.0]\n",
    "])\n",
    "\n",
    "b2 = np.array([1.0, 3.0, 1.0])\n",
    "\n",
    "A3 = np.array([\n",
    "    [1, 2, 4],\n",
    "    [1, 4, 8],\n",
    "    [4, 8, 16]\n",
    "])"
   ]
  },
  {
   "cell_type": "code",
   "execution_count": 3,
   "id": "b1005841",
   "metadata": {},
   "outputs": [
    {
     "ename": "TypeError",
     "evalue": "object of type 'NoneType' has no len()",
     "output_type": "error",
     "traceback": [
      "\u001b[0;31m---------------------------------------------------------------------------\u001b[0m",
      "\u001b[0;31mTypeError\u001b[0m                                 Traceback (most recent call last)",
      "\u001b[0;32m<ipython-input-3-59832edbcee3>\u001b[0m in \u001b[0;36m<module>\u001b[0;34m\u001b[0m\n\u001b[0;32m----> 1\u001b[0;31m \u001b[0mforward_elimination\u001b[0m\u001b[0;34m(\u001b[0m\u001b[0mA1\u001b[0m\u001b[0;34m)\u001b[0m\u001b[0;34m\u001b[0m\u001b[0;34m\u001b[0m\u001b[0m\n\u001b[0m",
      "\u001b[0;32m~/school-projects/linear_algebra/homeworks/ps6/ps6_davidhackett12.py\u001b[0m in \u001b[0;36mforward_elimination\u001b[0;34m(A, b)\u001b[0m\n\u001b[1;32m     42\u001b[0m             \u001b[0;31m# For elimination this line solves b\u001b[0m\u001b[0;34m\u001b[0m\u001b[0;34m\u001b[0m\u001b[0;34m\u001b[0m\u001b[0m\n\u001b[1;32m     43\u001b[0m             \u001b[0;31m# For inverse it performs Gauss Elimination\u001b[0m\u001b[0;34m\u001b[0m\u001b[0;34m\u001b[0m\u001b[0;34m\u001b[0m\u001b[0m\n\u001b[0;32m---> 44\u001b[0;31m             \u001b[0;32mif\u001b[0m \u001b[0mlen\u001b[0m\u001b[0;34m(\u001b[0m\u001b[0mb\u001b[0m\u001b[0;34m)\u001b[0m \u001b[0;34m>\u001b[0m \u001b[0;36m0\u001b[0m\u001b[0;34m:\u001b[0m\u001b[0;34m\u001b[0m\u001b[0;34m\u001b[0m\u001b[0m\n\u001b[0m\u001b[1;32m     45\u001b[0m                 \u001b[0mb\u001b[0m\u001b[0;34m[\u001b[0m\u001b[0mi\u001b[0m \u001b[0;34m+\u001b[0m \u001b[0mk\u001b[0m\u001b[0;34m]\u001b[0m \u001b[0;34m=\u001b[0m \u001b[0mb\u001b[0m\u001b[0;34m[\u001b[0m\u001b[0mi\u001b[0m \u001b[0;34m+\u001b[0m \u001b[0mk\u001b[0m\u001b[0;34m]\u001b[0m \u001b[0;34m-\u001b[0m \u001b[0;34m(\u001b[0m\u001b[0mb\u001b[0m\u001b[0;34m[\u001b[0m\u001b[0mi\u001b[0m\u001b[0;34m]\u001b[0m \u001b[0;34m*\u001b[0m \u001b[0ml\u001b[0m\u001b[0;34m)\u001b[0m\u001b[0;34m\u001b[0m\u001b[0;34m\u001b[0m\u001b[0m\n\u001b[1;32m     46\u001b[0m             \u001b[0mk\u001b[0m \u001b[0;34m+=\u001b[0m \u001b[0;36m1\u001b[0m\u001b[0;34m\u001b[0m\u001b[0;34m\u001b[0m\u001b[0m\n",
      "\u001b[0;31mTypeError\u001b[0m: object of type 'NoneType' has no len()"
     ]
    }
   ],
   "source": [
    "forward_elimination(A1)"
   ]
  },
  {
   "cell_type": "code",
   "execution_count": 4,
   "id": "b02731f3",
   "metadata": {},
   "outputs": [
    {
     "data": {
      "text/plain": [
       "(array([[1., 3., 1., 2.],\n",
       "        [0., 0., 2., 4.],\n",
       "        [0., 0., 0., 0.]]),\n",
       " [0, 2],\n",
       " [])"
      ]
     },
     "execution_count": 4,
     "metadata": {},
     "output_type": "execute_result"
    }
   ],
   "source": [
    "forward_elimination(A2, [])"
   ]
  },
  {
   "cell_type": "code",
   "execution_count": null,
   "id": "a633f1dd",
   "metadata": {},
   "outputs": [],
   "source": [
    "forward_elimination(A3)"
   ]
  },
  {
   "cell_type": "code",
   "execution_count": 3,
   "id": "7fd17b64",
   "metadata": {},
   "outputs": [
    {
     "ename": "NameError",
     "evalue": "name 'solve_completely' is not defined",
     "output_type": "error",
     "traceback": [
      "\u001b[0;31m---------------------------------------------------------------------------\u001b[0m",
      "\u001b[0;31mNameError\u001b[0m                                 Traceback (most recent call last)",
      "\u001b[0;32m<ipython-input-3-6a24b26832df>\u001b[0m in \u001b[0;36m<module>\u001b[0;34m\u001b[0m\n\u001b[0;32m----> 1\u001b[0;31m \u001b[0msolve_completely\u001b[0m\u001b[0;34m(\u001b[0m\u001b[0mA2\u001b[0m\u001b[0;34m,\u001b[0m \u001b[0mb2\u001b[0m\u001b[0;34m)\u001b[0m\u001b[0;34m\u001b[0m\u001b[0;34m\u001b[0m\u001b[0m\n\u001b[0m",
      "\u001b[0;31mNameError\u001b[0m: name 'solve_completely' is not defined"
     ]
    }
   ],
   "source": [
    "solve_completely(A2, b2)"
   ]
  },
  {
   "cell_type": "code",
   "execution_count": 3,
   "id": "5b5ad134",
   "metadata": {},
   "outputs": [
    {
     "data": {
      "text/plain": [
       "True"
      ]
     },
     "execution_count": 3,
     "metadata": {},
     "output_type": "execute_result"
    }
   ],
   "source": [
    "test_solve_completely(A2,b2)"
   ]
  },
  {
   "cell_type": "code",
   "execution_count": 8,
   "id": "470938d7",
   "metadata": {},
   "outputs": [],
   "source": [
    "A4, b4 = generate_random_system((3,4), [1, 3])"
   ]
  },
  {
   "cell_type": "code",
   "execution_count": 9,
   "id": "3332b4f8",
   "metadata": {},
   "outputs": [
    {
     "data": {
      "text/plain": [
       "(array([[-5.22432815e-01, -6.48132088e-01, -3.28704527e-01,\n",
       "         -1.09565575e+00],\n",
       "        [ 0.00000000e+00,  2.22044605e-16,  1.11022302e-16,\n",
       "         -3.08597947e+00],\n",
       "        [ 0.00000000e+00, -6.41841315e-18,  1.07813096e-16,\n",
       "          0.00000000e+00]]),\n",
       " [0, 3],\n",
       " array([-1.24755078e+00, -1.01684739e+00, -1.11022302e-16]))"
      ]
     },
     "execution_count": 9,
     "metadata": {},
     "output_type": "execute_result"
    }
   ],
   "source": [
    "forward_elimination(A4, b4)"
   ]
  },
  {
   "cell_type": "code",
   "execution_count": 3,
   "id": "c725442d",
   "metadata": {},
   "outputs": [],
   "source": [
    "test_solve_completely(A4, b4)"
   ]
  },
  {
   "cell_type": "code",
   "execution_count": null,
   "id": "99658f78",
   "metadata": {},
   "outputs": [],
   "source": []
  }
 ],
 "metadata": {
  "kernelspec": {
   "display_name": "Python 3",
   "language": "python",
   "name": "python3"
  },
  "language_info": {
   "codemirror_mode": {
    "name": "ipython",
    "version": 3
   },
   "file_extension": ".py",
   "mimetype": "text/x-python",
   "name": "python",
   "nbconvert_exporter": "python",
   "pygments_lexer": "ipython3",
   "version": "3.8.8"
  }
 },
 "nbformat": 4,
 "nbformat_minor": 5
}
