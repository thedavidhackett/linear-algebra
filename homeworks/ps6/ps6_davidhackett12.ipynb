{
 "cells": [
  {
   "cell_type": "code",
   "execution_count": 3,
   "id": "82236c6b",
   "metadata": {},
   "outputs": [],
   "source": [
    "from ps6_davidhackett12 import *\n",
    "import numpy as np"
   ]
  },
  {
   "cell_type": "code",
   "execution_count": 4,
   "id": "2c27ff7b",
   "metadata": {},
   "outputs": [],
   "source": [
    "## Test A and b to show results of forward elimination and solve completely\n",
    "A = np.array([\n",
    "     [1.0, 3.0, 1.0, 2.0],\n",
    "     [2.0, 6.0, 4.0, 8.0],\n",
    "     [0.0, 0.0, 2.0, 4.0]\n",
    "])\n",
    "\n",
    "b = np.array([1.0, 3.0, 1.0])"
   ]
  },
  {
   "cell_type": "markdown",
   "id": "4058e800",
   "metadata": {},
   "source": [
    "## Forward Elimination\n",
    "\n",
    "Forward elimination works very similarly to the previous problem set. It does return A in row echelon form, as well as the pivots in a list with the index representing the row and the value representing the pivot column. It also returns rank and optionally will perform the same row operations on a vector b."
   ]
  },
  {
   "cell_type": "code",
   "execution_count": 5,
   "id": "b1005841",
   "metadata": {},
   "outputs": [
    {
     "name": "stdout",
     "output_type": "stream",
     "text": [
      "R: [[1. 3. 1. 2.]\n",
      " [0. 0. 2. 4.]\n",
      " [0. 0. 0. 0.]] \n",
      "Pivots: [0, 2] \n",
      "Rank: 2\n"
     ]
    }
   ],
   "source": [
    "R, pivots, rank, _ = forward_elimination(A)\n",
    "print(f\"R: {R} \\nPivots: {pivots} \\nRank: {rank}\")"
   ]
  },
  {
   "cell_type": "markdown",
   "id": "fd5ac73c",
   "metadata": {},
   "source": [
    "## Solve Completely\n",
    "\n",
    "My solve completely function takes an A and b and returns a particular solution and a matrix representing the column space for N(A) with each column representing a vector in that space."
   ]
  },
  {
   "cell_type": "code",
   "execution_count": 6,
   "id": "a633f1dd",
   "metadata": {},
   "outputs": [
    {
     "data": {
      "text/plain": [
       "(array([0.5, 0. , 0.5, 0. ]),\n",
       " array([[-3.,  0.],\n",
       "        [ 1.,  0.],\n",
       "        [ 0., -2.],\n",
       "        [ 0.,  1.]]))"
      ]
     },
     "execution_count": 6,
     "metadata": {},
     "output_type": "execute_result"
    }
   ],
   "source": [
    "solve_completely(A, b)"
   ]
  },
  {
   "cell_type": "markdown",
   "id": "6cf603fb",
   "metadata": {},
   "source": [
    "## Generate a Random Matrix\n",
    "\n",
    "The generate random system function generates a random A and a random b that can be solved. It take in a value for the shape of the matrix as well as the columns that should have pivots."
   ]
  },
  {
   "cell_type": "code",
   "execution_count": 7,
   "id": "5b5ad134",
   "metadata": {},
   "outputs": [
    {
     "name": "stdout",
     "output_type": "stream",
     "text": [
      "[[-0.79718789 -0.03088469  0.66945157 -0.29083366]\n",
      " [ 0.37654068  0.01458796 -0.06601453  0.31717197]\n",
      " [-1.35036941 -0.05231608 -0.16709967 -1.4276818 ]]\n"
     ]
    }
   ],
   "source": [
    "A2, _ = generate_random_system((3,4), [0, 2])\n",
    "print(A2)"
   ]
  },
  {
   "cell_type": "markdown",
   "id": "522cbbfa",
   "metadata": {},
   "source": [
    "Using forward elimination we can compare the expected pivots."
   ]
  },
  {
   "cell_type": "code",
   "execution_count": 8,
   "id": "3332b4f8",
   "metadata": {},
   "outputs": [
    {
     "name": "stdout",
     "output_type": "stream",
     "text": [
      "[0, 2]\n"
     ]
    }
   ],
   "source": [
    "_, pivots, _, _ = forward_elimination(A2)\n",
    "print(pivots)"
   ]
  },
  {
   "cell_type": "markdown",
   "id": "2650e157",
   "metadata": {},
   "source": [
    "## Testing on a series of random matrices\n",
    "\n",
    "Test solve completely will take an A and b and check whether solve completely worked as expected by plugging the particular solution x and X back into Ax = b and seeing if the b matches the input. It chooses a random column from X and multiplies it by a random coefficient."
   ]
  },
  {
   "cell_type": "code",
   "execution_count": 9,
   "id": "99658f78",
   "metadata": {},
   "outputs": [
    {
     "name": "stdout",
     "output_type": "stream",
     "text": [
      "success\n"
     ]
    }
   ],
   "source": [
    "try:\n",
    "    test_solve_completely(A, b)\n",
    "    print(\"success\")\n",
    "except AssertionError:\n",
    "    print(\"failure\")"
   ]
  },
  {
   "cell_type": "markdown",
   "id": "9089d94d",
   "metadata": {},
   "source": [
    "Now test solve completely on random generates various shapes of matrices with different pivot columns and runs test solve completely on each of the randomly generated systems. It prints any linear system that produced an error and will print the number of tests passed and failed at the end."
   ]
  },
  {
   "cell_type": "code",
   "execution_count": 10,
   "id": "0e4bb648",
   "metadata": {},
   "outputs": [
    {
     "name": "stdout",
     "output_type": "stream",
     "text": [
      "Tests Passed: 12 \n",
      " Tests Failed: 0\n"
     ]
    }
   ],
   "source": [
    "test_solve_completely_on_random()"
   ]
  },
  {
   "cell_type": "code",
   "execution_count": null,
   "id": "c06af413",
   "metadata": {},
   "outputs": [],
   "source": []
  }
 ],
 "metadata": {
  "kernelspec": {
   "display_name": "Python 3",
   "language": "python",
   "name": "python3"
  },
  "language_info": {
   "codemirror_mode": {
    "name": "ipython",
    "version": 3
   },
   "file_extension": ".py",
   "mimetype": "text/x-python",
   "name": "python",
   "nbconvert_exporter": "python",
   "pygments_lexer": "ipython3",
   "version": "3.8.8"
  }
 },
 "nbformat": 4,
 "nbformat_minor": 5
}
