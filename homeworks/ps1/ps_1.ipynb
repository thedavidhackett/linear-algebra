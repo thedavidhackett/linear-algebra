{
 "cells": [
  {
   "cell_type": "code",
   "execution_count": 10,
   "id": "8d054a3b",
   "metadata": {},
   "outputs": [],
   "source": [
    "import numpy as np"
   ]
  },
  {
   "cell_type": "code",
   "execution_count": 11,
   "id": "e9a07524",
   "metadata": {},
   "outputs": [],
   "source": [
    "v = np.random.randn(3)"
   ]
  },
  {
   "cell_type": "code",
   "execution_count": 12,
   "id": "34da81de",
   "metadata": {},
   "outputs": [
    {
     "name": "stdout",
     "output_type": "stream",
     "text": [
      "[ 1.10608442 -0.95066584  1.17171424]\n"
     ]
    }
   ],
   "source": [
    "print(v)"
   ]
  },
  {
   "cell_type": "code",
   "execution_count": 13,
   "id": "a9edcc73",
   "metadata": {},
   "outputs": [],
   "source": [
    "u = v / np.sqrt(np.dot(v, v))"
   ]
  },
  {
   "cell_type": "code",
   "execution_count": 14,
   "id": "3613a2e5",
   "metadata": {},
   "outputs": [
    {
     "name": "stdout",
     "output_type": "stream",
     "text": [
      "[ 0.59121833 -0.50814482  0.62629843]\n"
     ]
    }
   ],
   "source": [
    "print(u)"
   ]
  },
  {
   "cell_type": "code",
   "execution_count": 15,
   "id": "3def0750",
   "metadata": {},
   "outputs": [
    {
     "data": {
      "text/plain": [
       "0.9999999999999998"
      ]
     },
     "execution_count": 15,
     "metadata": {},
     "output_type": "execute_result"
    }
   ],
   "source": [
    "# Just to test, should equal 1\n",
    "np.dot(u, u)"
   ]
  },
  {
   "cell_type": "code",
   "execution_count": 16,
   "id": "e51f86dd",
   "metadata": {},
   "outputs": [],
   "source": [
    "W = np.random.randn(30, 3)"
   ]
  },
  {
   "cell_type": "code",
   "execution_count": 17,
   "id": "18d750c3",
   "metadata": {},
   "outputs": [
    {
     "name": "stdout",
     "output_type": "stream",
     "text": [
      "9.270464356440623\n"
     ]
    }
   ],
   "source": [
    "W = np.linalg.norm(W)\n",
    "\n",
    "print(W)"
   ]
  },
  {
   "cell_type": "code",
   "execution_count": 18,
   "id": "6081a150",
   "metadata": {},
   "outputs": [
    {
     "name": "stdout",
     "output_type": "stream",
     "text": [
      "2.192069103588975\n"
     ]
    }
   ],
   "source": [
    "dot_products = np.dot(W, u)    \n",
    "print(np.mean(dot_products))"
   ]
  },
  {
   "cell_type": "code",
   "execution_count": null,
   "id": "b814b1b3",
   "metadata": {},
   "outputs": [],
   "source": []
  }
 ],
 "metadata": {
  "kernelspec": {
   "display_name": "Python 3",
   "language": "python",
   "name": "python3"
  },
  "language_info": {
   "codemirror_mode": {
    "name": "ipython",
    "version": 3
   },
   "file_extension": ".py",
   "mimetype": "text/x-python",
   "name": "python",
   "nbconvert_exporter": "python",
   "pygments_lexer": "ipython3",
   "version": "3.9.10"
  }
 },
 "nbformat": 4,
 "nbformat_minor": 5
}
