{
 "cells": [
  {
   "cell_type": "markdown",
   "id": "eab596fc",
   "metadata": {},
   "source": [
    "a) Honestly using all three algorithms it seems like LU factorization is the slowest, but that probably has to do more with what I'm used to doing. Since each one utilizes essentially the same steps in different ways it seems like the amount of operations should be the same (we talked about that in class for Elimination vs LU). I suppose finding the inverse may be more steps so if K is 1 or 2 then it should perform the worse with elimination and LU performing better. As we get to intermediate though since Inverse and LU save some steps I think inverse will become as good as elimination and LU will be faster. As k gets even bigger LU will continue to outperform the others and I think inverse will eventually surpass elimination as well. The N may matter in the smaller examples more. A bigger N could really slow down inverse since it has to multply N bs. However as K grows I feel like N will become less of a detriment to inverse and it doesn't feel like ti should make much of a difference between elimination and LU. "
   ]
  },
  {
   "cell_type": "code",
   "execution_count": 1,
   "id": "4c49bcff",
   "metadata": {},
   "outputs": [],
   "source": [
    "import numpy as np\n",
    "from ps4_davidhackett12 import solve_elimination, solve_inverse, solve_lu"
   ]
  },
  {
   "cell_type": "code",
   "execution_count": 2,
   "id": "d4d9322b",
   "metadata": {},
   "outputs": [],
   "source": [
    "A = np.array([[2, -3, 0],\n",
    "             [4, -5, 1],\n",
    "             [2, -1, -3]])\n",
    "\n",
    "b = np.array([3, 7, 5])"
   ]
  },
  {
   "cell_type": "code",
   "execution_count": 3,
   "id": "d54730eb",
   "metadata": {},
   "outputs": [
    {
     "data": {
      "text/plain": [
       "[array([ 3.,  1., -0.])]"
      ]
     },
     "execution_count": 3,
     "metadata": {},
     "output_type": "execute_result"
    }
   ],
   "source": [
    "solve_elimination(A, [b])"
   ]
  },
  {
   "cell_type": "code",
   "execution_count": 4,
   "id": "0a4ef1ac",
   "metadata": {},
   "outputs": [
    {
     "data": {
      "text/plain": [
       "[array([3.00000000e+00, 1.00000000e+00, 3.88578059e-16])]"
      ]
     },
     "execution_count": 4,
     "metadata": {},
     "output_type": "execute_result"
    }
   ],
   "source": [
    "solve_inverse(A, [b])"
   ]
  },
  {
   "cell_type": "code",
   "execution_count": 4,
   "id": "eb8bfc73",
   "metadata": {},
   "outputs": [
    {
     "data": {
      "text/plain": [
       "([array([21., 13., -0.])],\n",
       " array([[ 1.,  0.,  0.],\n",
       "        [-2.,  1.,  0.],\n",
       "        [-3.,  2.,  1.]]),\n",
       " array([ 3., 13.,  0.]))"
      ]
     },
     "execution_count": 4,
     "metadata": {},
     "output_type": "execute_result"
    }
   ],
   "source": [
    "solve_lu(A, [b])"
   ]
  },
  {
   "cell_type": "code",
   "execution_count": null,
   "id": "f211588d",
   "metadata": {},
   "outputs": [],
   "source": []
  }
 ],
 "metadata": {
  "kernelspec": {
   "display_name": "Python 3",
   "language": "python",
   "name": "python3"
  },
  "language_info": {
   "codemirror_mode": {
    "name": "ipython",
    "version": 3
   },
   "file_extension": ".py",
   "mimetype": "text/x-python",
   "name": "python",
   "nbconvert_exporter": "python",
   "pygments_lexer": "ipython3",
   "version": "3.9.10"
  }
 },
 "nbformat": 4,
 "nbformat_minor": 5
}
