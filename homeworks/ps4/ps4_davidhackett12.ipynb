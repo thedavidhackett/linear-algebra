{
 "cells": [
  {
   "cell_type": "markdown",
   "id": "eab596fc",
   "metadata": {},
   "source": [
    "### a) Predictions\n",
    "\n",
    "Since each algorithm utilizes essentially the same steps in different ways it seems like the amount of operations should be the same (we talked about that in class for Elimination vs LU) and thus the times should be somewhat similar for the lower values of n and k. I suppose finding the inverse may be more steps so if K is 1 or 2 no matter then N then it should perform the worse with elimination and LU doing better. I think with lower values for n and k elimination and LU should perform simiarly. As we get to intermediate though since Inverse and LU save some steps I think inverse will become as good as elimination and LU will be faster. As k gets even bigger LU will continue to outperform the others and I think inverse will eventually surpass elimination as well. The N may matter in the smaller examples more. A bigger N could really slow down inverse since it has to multply N bs. However as K grows I feel like N will become less of a detriment to inverse and it doesn't feel like it should make much of a difference between elimination and LU (and again LU will do better than elimnination as k grows). "
   ]
  },
  {
   "cell_type": "code",
   "execution_count": 1,
   "id": "4c49bcff",
   "metadata": {},
   "outputs": [],
   "source": [
    "import numpy as np\n",
    "from ps4_davidhackett12 import *"
   ]
  },
  {
   "cell_type": "markdown",
   "id": "0458dc3a",
   "metadata": {},
   "source": [
    "### c) Testing\n",
    "\n",
    "The test function takes a list of n values and a k value. Since I'm just interested in if it works, I'm not concern with varying k. It shouldn't matter how many b values there are if it can solve the linear system for 2 correctly then it should work for more than 2 (there are reasons why it would only work for k=1 however). There are different reasons the value for n could effect the outcome so I wanted to make sure that I tested all the functions on a variety of n values, small, intermediate, and large to make sure they work.\n",
    "\n",
    "The test function generates a nxn matrix and list of length k n length vectors for each n value. It runs the function on the inputs and then tests that they got the solution right by comparing b to A.dot(x). In other words it computes Ax to compare to the input b. It uses np.allclose to account for rounding errors. If an assertion fails the test prints a message with the A, x, and b, otherwise it prints function passes all tests. As you can see below all three functions work."
   ]
  },
  {
   "cell_type": "code",
   "execution_count": 2,
   "id": "d54730eb",
   "metadata": {},
   "outputs": [
    {
     "name": "stdout",
     "output_type": "stream",
     "text": [
      "Function passes all tests\n",
      "Function passes all tests\n",
      "Function passes all tests\n"
     ]
    }
   ],
   "source": [
    "n_list = [2, 3, 8, 100]\n",
    "k = 3\n",
    "test_solve_linear_system(solve_elimination, n_list, k)\n",
    "test_solve_linear_system(solve_inverse, n_list, k)\n",
    "test_solve_linear_system(solve_lu, n_list, k)"
   ]
  },
  {
   "cell_type": "markdown",
   "id": "115481c1",
   "metadata": {},
   "source": [
    "### d) Timing\n",
    "\n",
    "I created a function that utilized the helper function provided in ed discussion. The function generates a nxn matrix and k n length vectors for various values of n and k. In the function I use n = 2, 4, 8, 32, 64 and k = 1, 2, 4, 16, 32. For each value of n the function times each value of k for each function ten times. I wanted to compare various combinations of large and small n and k values and I thought this array of combinations gave me a good range without blowing up my computer.\n",
    "\n",
    "The time_solve_functions passes each solve function to the helper function which checks if the function works as expected (returns the correct answer and doesn't modify the inputs) and returns the time it took for the function to solve the linear system for all values of b in the b_list. I did ten runs for each attempt to solve the linear system for each set of inputs for each function and averaged them.\n",
    "\n",
    "The timing function then prints the averaged time to solve for each of the functions for each set of inputs for comparison. "
   ]
  },
  {
   "cell_type": "code",
   "execution_count": 3,
   "id": "0a4ef1ac",
   "metadata": {},
   "outputs": [
    {
     "name": "stdout",
     "output_type": "stream",
     "text": [
      "Solve Elimination: averaged 0.00011225700001205041 for n = 2 and k = 1\n",
      "Solve Inverse: averaged 8.76828000059504e-05 for n = 2 and k = 1\n",
      "Solve LU: averaged 9.718359996213621e-05 for n = 2 and k = 1\n",
      "Solve Elimination: averaged 8.871070000395775e-05 for n = 2 and k = 2\n",
      "Solve Inverse: averaged 7.276180000417298e-05 for n = 2 and k = 2\n",
      "Solve LU: averaged 4.120910001574885e-05 for n = 2 and k = 2\n",
      "Solve Elimination: averaged 9.465530002898959e-05 for n = 2 and k = 4\n",
      "Solve Inverse: averaged 0.00010558520001495708 for n = 2 and k = 4\n",
      "Solve LU: averaged 6.876530001136416e-05 for n = 2 and k = 4\n",
      "Solve Elimination: averaged 0.00032425779997993234 for n = 2 and k = 16\n",
      "Solve Inverse: averaged 0.00013400910000882504 for n = 2 and k = 16\n",
      "Solve LU: averaged 0.0001853911999887714 for n = 2 and k = 16\n",
      "Solve Elimination: averaged 0.0004680622999899242 for n = 2 and k = 32\n",
      "Solve Inverse: averaged 0.00012739860000010594 for n = 2 and k = 32\n",
      "Solve LU: averaged 0.00030830669998067607 for n = 2 and k = 32\n",
      "Solve Elimination: averaged 5.259979998299969e-05 for n = 4 and k = 1\n",
      "Solve Inverse: averaged 0.00016950899999983448 for n = 4 and k = 1\n",
      "Solve LU: averaged 7.011190002685908e-05 for n = 4 and k = 1\n",
      "Solve Elimination: averaged 0.00010165209998831415 for n = 4 and k = 2\n",
      "Solve Inverse: averaged 0.00019028689999913694 for n = 4 and k = 2\n",
      "Solve LU: averaged 8.417259999760063e-05 for n = 4 and k = 2\n",
      "Solve Elimination: averaged 0.00020332950002739382 for n = 4 and k = 4\n",
      "Solve Inverse: averaged 0.0002171358000055079 for n = 4 and k = 4\n",
      "Solve LU: averaged 0.00012335050000729099 for n = 4 and k = 4\n",
      "Solve Elimination: averaged 0.0008509288000254856 for n = 4 and k = 16\n",
      "Solve Inverse: averaged 0.0001657904000239796 for n = 4 and k = 16\n",
      "Solve LU: averaged 0.0002938164999932269 for n = 4 and k = 16\n",
      "Solve Elimination: averaged 0.0012871151000126702 for n = 4 and k = 32\n",
      "Solve Inverse: averaged 0.00025154719997999564 for n = 4 and k = 32\n",
      "Solve LU: averaged 0.0005378531000246767 for n = 4 and k = 32\n",
      "Solve Elimination: averaged 0.00023819989996809454 for n = 8 and k = 1\n",
      "Solve Inverse: averaged 0.0006129605000069205 for n = 8 and k = 1\n",
      "Solve LU: averaged 0.00042763050000758083 for n = 8 and k = 1\n",
      "Solve Elimination: averaged 0.0005242691999910676 for n = 8 and k = 2\n",
      "Solve Inverse: averaged 0.000648108899986255 for n = 8 and k = 2\n",
      "Solve LU: averaged 0.00028746519999458544 for n = 8 and k = 2\n",
      "Solve Elimination: averaged 0.0007519176000187145 for n = 8 and k = 4\n",
      "Solve Inverse: averaged 0.0004654864000258385 for n = 8 and k = 4\n",
      "Solve LU: averaged 0.0003061785999989297 for n = 8 and k = 4\n",
      "Solve Elimination: averaged 0.0023456998000256136 for n = 8 and k = 16\n",
      "Solve Inverse: averaged 0.0006333253999969201 for n = 8 and k = 16\n",
      "Solve LU: averaged 0.0007722537000063312 for n = 8 and k = 16\n",
      "Solve Elimination: averaged 0.0043262063000156555 for n = 8 and k = 32\n",
      "Solve Inverse: averaged 0.0005723018999901797 for n = 8 and k = 32\n",
      "Solve LU: averaged 0.0013645515000007436 for n = 8 and k = 32\n",
      "Solve Elimination: averaged 0.002715870399981668 for n = 32 and k = 1\n",
      "Solve Inverse: averaged 0.006060617099990395 for n = 32 and k = 1\n",
      "Solve LU: averaged 0.0023301241000012853 for n = 32 and k = 1\n",
      "Solve Elimination: averaged 0.004646895400014728 for n = 32 and k = 2\n",
      "Solve Inverse: averaged 0.006843040299986569 for n = 32 and k = 2\n",
      "Solve LU: averaged 0.0038576687000158928 for n = 32 and k = 2\n",
      "Solve Elimination: averaged 0.00871190900001011 for n = 32 and k = 4\n",
      "Solve Inverse: averaged 0.006781937299990659 for n = 32 and k = 4\n",
      "Solve LU: averaged 0.004939764600010221 for n = 32 and k = 4\n",
      "Solve Elimination: averaged 0.04026909900001101 for n = 32 and k = 16\n",
      "Solve Inverse: averaged 0.006814900599999873 for n = 32 and k = 16\n",
      "Solve LU: averaged 0.009435653399987132 for n = 32 and k = 16\n",
      "Solve Elimination: averaged 0.07032131670000581 for n = 32 and k = 32\n",
      "Solve Inverse: averaged 0.0065493834999983845 for n = 32 and k = 32\n",
      "Solve LU: averaged 0.01647908939997933 for n = 32 and k = 32\n",
      "Solve Elimination: averaged 0.008732724200012854 for n = 64 and k = 1\n",
      "Solve Inverse: averaged 0.024881498100012323 for n = 64 and k = 1\n",
      "Solve LU: averaged 0.008919547400000737 for n = 64 and k = 1\n",
      "Solve Elimination: averaged 0.018596961200012176 for n = 64 and k = 2\n",
      "Solve Inverse: averaged 0.025087767499985602 for n = 64 and k = 2\n",
      "Solve LU: averaged 0.010959138299995175 for n = 64 and k = 2\n",
      "Solve Elimination: averaged 0.03430682060001118 for n = 64 and k = 4\n",
      "Solve Inverse: averaged 0.024739875300031144 for n = 64 and k = 4\n",
      "Solve LU: averaged 0.014033292800013442 for n = 64 and k = 4\n",
      "Solve Elimination: averaged 0.13815714340003069 for n = 64 and k = 16\n",
      "Solve Inverse: averaged 0.024994730400010212 for n = 64 and k = 16\n",
      "Solve LU: averaged 0.03387435999999298 for n = 64 and k = 16\n",
      "Solve Elimination: averaged 0.27181541620001326 for n = 64 and k = 32\n",
      "Solve Inverse: averaged 0.024648321899996974 for n = 64 and k = 32\n",
      "Solve LU: averaged 0.060542618499994205 for n = 64 and k = 32\n"
     ]
    }
   ],
   "source": [
    "time_solve_functions()"
   ]
  },
  {
   "cell_type": "markdown",
   "id": "fbb5a5e3",
   "metadata": {},
   "source": [
    "### e)\n",
    "As I predicted with a small n and k inverse was slower than the other two which were very similar in speed. For larger n values and lower k values this trend continued. Interestingly though as k rose LU and Inverse began to do better than elimination, as expected, but unexpectedly Inverse began out performing LU for higher values of k. For higher values of n it took a higher value of k for Inverse to start out performing LU, but in all cases it did eventually. \n",
    "\n",
    "This result was a little surprising, since we were told LU would be the fastest. However I'm guessing this is because computing the inverse took longer than computing L and U, but using the substitution for each b to solve with LU took longer than simply multiplying b by the inverse. It could be that the way I wrote the substitution functions is what is really slowing down LU. I know using a nested python for loop is not very performant, but I wasn't sure how to approach this using vectorized functions.\n",
    "\n",
    "Its a hard call which I'd go with, but I might lean towards LU over Inverse. With smaller n and k values the computing time is less anyway, so I'd want the function that does the best with larger n and k values. Inverse does do better when K is higher but as N increases as well that advantage is not as pronounced. Also maybe I could make some improvements to LU (like vectorizing) that would make it perform even better."
   ]
  },
  {
   "cell_type": "code",
   "execution_count": null,
   "id": "f211588d",
   "metadata": {},
   "outputs": [],
   "source": []
  },
  {
   "cell_type": "code",
   "execution_count": null,
   "id": "dafc31b0",
   "metadata": {},
   "outputs": [],
   "source": []
  },
  {
   "cell_type": "code",
   "execution_count": null,
   "id": "e5a1ba03",
   "metadata": {},
   "outputs": [],
   "source": []
  },
  {
   "cell_type": "code",
   "execution_count": null,
   "id": "08b21ba4",
   "metadata": {},
   "outputs": [],
   "source": []
  },
  {
   "cell_type": "code",
   "execution_count": null,
   "id": "b68354a0",
   "metadata": {},
   "outputs": [],
   "source": []
  },
  {
   "cell_type": "code",
   "execution_count": null,
   "id": "11c8527c",
   "metadata": {},
   "outputs": [],
   "source": []
  },
  {
   "cell_type": "code",
   "execution_count": null,
   "id": "ba7020c5",
   "metadata": {},
   "outputs": [],
   "source": []
  },
  {
   "cell_type": "code",
   "execution_count": null,
   "id": "9b8ce4fc",
   "metadata": {},
   "outputs": [],
   "source": []
  },
  {
   "cell_type": "code",
   "execution_count": null,
   "id": "22a1edf4",
   "metadata": {},
   "outputs": [],
   "source": []
  },
  {
   "cell_type": "code",
   "execution_count": null,
   "id": "51cbdbe7",
   "metadata": {},
   "outputs": [],
   "source": []
  },
  {
   "cell_type": "code",
   "execution_count": null,
   "id": "628ffd6e",
   "metadata": {},
   "outputs": [],
   "source": []
  },
  {
   "cell_type": "code",
   "execution_count": null,
   "id": "486d03b7",
   "metadata": {},
   "outputs": [],
   "source": []
  },
  {
   "cell_type": "code",
   "execution_count": null,
   "id": "31915316",
   "metadata": {},
   "outputs": [],
   "source": []
  },
  {
   "cell_type": "code",
   "execution_count": null,
   "id": "8ee65cb5",
   "metadata": {},
   "outputs": [],
   "source": []
  },
  {
   "cell_type": "code",
   "execution_count": null,
   "id": "3658d7da",
   "metadata": {},
   "outputs": [],
   "source": []
  },
  {
   "cell_type": "code",
   "execution_count": null,
   "id": "7bd0b9c6",
   "metadata": {},
   "outputs": [],
   "source": []
  },
  {
   "cell_type": "code",
   "execution_count": null,
   "id": "0b285e66",
   "metadata": {},
   "outputs": [],
   "source": []
  }
 ],
 "metadata": {
  "kernelspec": {
   "display_name": "Python 3",
   "language": "python",
   "name": "python3"
  },
  "language_info": {
   "codemirror_mode": {
    "name": "ipython",
    "version": 3
   },
   "file_extension": ".py",
   "mimetype": "text/x-python",
   "name": "python",
   "nbconvert_exporter": "python",
   "pygments_lexer": "ipython3",
   "version": "3.9.10"
  }
 },
 "nbformat": 4,
 "nbformat_minor": 5
}
