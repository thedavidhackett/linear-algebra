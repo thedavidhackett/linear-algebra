{
 "cells": [
  {
   "cell_type": "code",
   "execution_count": 1,
   "id": "65b2cf48",
   "metadata": {},
   "outputs": [
    {
     "name": "stdout",
     "output_type": "stream",
     "text": [
      "(array([[ 1, -2],\n",
      "       [ 0,  8]]), array([3., 1.]))\n"
     ]
    }
   ],
   "source": [
    "import numpy as np\n",
    "from ps2_davidhackett12 import eliminate, test_eliminate"
   ]
  },
  {
   "cell_type": "markdown",
   "id": "7908e11d",
   "metadata": {},
   "source": [
    "## 1 a)"
   ]
  },
  {
   "cell_type": "code",
   "execution_count": 2,
   "id": "6ebc3973",
   "metadata": {},
   "outputs": [
    {
     "name": "stdout",
     "output_type": "stream",
     "text": [
      "eliminate on page 46:\n",
      "(array([[ 1, -2],\n",
      "       [ 0,  8]]), array([3., 1.]))\n",
      "linalg.solve on page 46\n",
      "[3. 1.]\n"
     ]
    }
   ],
   "source": [
    "\"\"\"\n",
    "x - 2y = 1\n",
    "3x + 2y = 11\n",
    "\n",
    "Upper Triangular System should be:\n",
    "[[1, -2]\n",
    "[0, 8]]\n",
    "\n",
    "solution should be [3, 1]\n",
    "\"\"\"\n",
    "\n",
    "A = np.array([[1, -2],\n",
    "              [3, 2]])\n",
    "b = np.array([1, 11])\n",
    "\n",
    "print(\"eliminate on page 46:\")\n",
    "print(eliminate(A, b))\n",
    "\n",
    "print(\"linalg.solve on page 46\")\n",
    "print(np.linalg.solve(A, b))"
   ]
  },
  {
   "cell_type": "markdown",
   "id": "75df9bf8",
   "metadata": {},
   "source": [
    "The two match the answer in the book"
   ]
  },
  {
   "cell_type": "code",
   "execution_count": 3,
   "id": "100730da",
   "metadata": {},
   "outputs": [
    {
     "name": "stdout",
     "output_type": "stream",
     "text": [
      "eliminate on page 50:\n",
      "(array([[ 2,  4, -2],\n",
      "       [ 0,  1,  1],\n",
      "       [ 0,  0,  4]]), array([-1.,  2.,  2.]))\n",
      "linalg.solve on page 50\n",
      "[-1.  2.  2.]\n"
     ]
    }
   ],
   "source": [
    "\"\"\"\n",
    "2x + 4y - 2z = 2\n",
    "4x + 9y - 3z = 8\n",
    "-2x -3y + 7z = 10\n",
    "\n",
    "Upper Triangular System should be:\n",
    "[[2, 4, -2]\n",
    "[0, 1, 1],\n",
    "[0, 0, 4]]\n",
    "\n",
    "solution should be [-1, 2, 2]\n",
    "\"\"\"\n",
    "A = np.array([[2, 4, -2],\n",
    "              [4, 9, -3],\n",
    "             [-2, -3, 7]])\n",
    "b = np.array([2, 8, 10])\n",
    "\n",
    "print(\"eliminate on page 50:\")\n",
    "print(eliminate(A, b))\n",
    "\n",
    "print(\"linalg.solve on page 50\")\n",
    "print(np.linalg.solve(A, b))\n"
   ]
  },
  {
   "cell_type": "markdown",
   "id": "66e114f2",
   "metadata": {},
   "source": [
    "Once again they match!\n",
    "\n",
    "## 1. b)"
   ]
  },
  {
   "cell_type": "code",
   "execution_count": 4,
   "id": "b92bfedb",
   "metadata": {},
   "outputs": [
    {
     "name": "stdout",
     "output_type": "stream",
     "text": [
      "eliminate trying solve a system that requires a row change\n",
      "Failed because of a row change\n",
      "Trying with linalg.solve\n",
      "[-2.  2.]\n"
     ]
    },
    {
     "name": "stderr",
     "output_type": "stream",
     "text": [
      "/Users/davidhackett/school-projects/linear_algebra/homeworks/ps2_davidhackett12.py:26: RuntimeWarning: divide by zero encountered in long_scalars\n",
      "  pivot = A[i + j][i]/A[i][i]\n",
      "/Users/davidhackett/school-projects/linear_algebra/homeworks/ps2_davidhackett12.py:27: RuntimeWarning: invalid value encountered in multiply\n",
      "  A[i + j] = A[i + j] - (A[i] * pivot)\n"
     ]
    }
   ],
   "source": [
    "# Failing because a row change is needed\n",
    "\n",
    "A = np.array([[0, 2],\n",
    "             [3, -2]])\n",
    "\n",
    "b = np.array([4, 5])\n",
    "\n",
    "\n",
    "print(\"eliminate trying solve a system that requires a row change\")\n",
    "try:\n",
    "    eliminate(A, b)\n",
    "except OverflowError:\n",
    "    print(\"Failed because of a row change\")\n",
    "    \n",
    "print(\"Trying with linalg.solve\")\n",
    "print(np.linalg.solve(A,b))\n",
    "    \n",
    "    "
   ]
  },
  {
   "cell_type": "markdown",
   "id": "c1d6b407",
   "metadata": {},
   "source": [
    "Apparently in the case where a row change is needed it throws an overflow error because it interprets 3/0 as inf. Later it fails when trying to use that to multiply the top equation. Obviously it works with linalg.solve"
   ]
  },
  {
   "cell_type": "code",
   "execution_count": 5,
   "id": "db502cbf",
   "metadata": {},
   "outputs": [
    {
     "name": "stdout",
     "output_type": "stream",
     "text": [
      "Trying eliminate with system that has no solutions\n",
      "(array([[2, 4],\n",
      "       [0, 0]]), array([-inf,  inf]))\n"
     ]
    },
    {
     "name": "stderr",
     "output_type": "stream",
     "text": [
      "/Users/davidhackett/school-projects/linear_algebra/homeworks/ps2_davidhackett12.py:37: RuntimeWarning: divide by zero encountered in long_scalars\n",
      "  x[i] = answer / A[i][i]\n"
     ]
    }
   ],
   "source": [
    "# Trying a case with no solutions\n",
    "\n",
    "A = np.array([[2, 4],\n",
    "            [1, 2]])\n",
    "\n",
    "b = np.array([-1, 2])\n",
    "\n",
    "print(\"Trying eliminate with system that has no solutions\")\n",
    "print(eliminate(A, b))"
   ]
  },
  {
   "cell_type": "markdown",
   "id": "b27db020",
   "metadata": {},
   "source": [
    "Interestingly there isn't an error here, but having -inf and inf as a solution is obviously wrong. It somewhat successfully creates the upper triangular system (though its not really a triange), but fails when trying to do back substituion since the last equation is all 0s dividing by 0 again and making the answer -inf, inf."
   ]
  },
  {
   "cell_type": "code",
   "execution_count": 6,
   "id": "6d30daec",
   "metadata": {},
   "outputs": [
    {
     "name": "stdout",
     "output_type": "stream",
     "text": [
      "Trying eliminate with system that has infinite solutions\n",
      "(array([[2, 4],\n",
      "       [0, 0]]), array([nan, nan]))\n"
     ]
    },
    {
     "name": "stderr",
     "output_type": "stream",
     "text": [
      "/Users/davidhackett/school-projects/linear_algebra/homeworks/ps2_davidhackett12.py:37: RuntimeWarning: invalid value encountered in long_scalars\n",
      "  x[i] = answer / A[i][i]\n"
     ]
    }
   ],
   "source": [
    "# Trying a case with infinite solutions\n",
    "\n",
    "A = np.array([[2, 4],\n",
    "            [1, 2]])\n",
    "\n",
    "b = np.array([6, 3])\n",
    "\n",
    "print(\"Trying eliminate with system that has infinite solutions\")\n",
    "print(eliminate(A, b))"
   ]
  },
  {
   "cell_type": "markdown",
   "id": "7d7076aa",
   "metadata": {},
   "source": [
    "This also runs, but again the solution (nan, nan) is obviously wrong. It fails at the same point as the last one, but instead of trying to divide a non 0 number by 0 it attempts 0/0 giving us (nan, nan) as the result."
   ]
  },
  {
   "cell_type": "markdown",
   "id": "79c61cf1",
   "metadata": {},
   "source": [
    "## 1 C"
   ]
  },
  {
   "cell_type": "code",
   "execution_count": 7,
   "id": "50344792",
   "metadata": {},
   "outputs": [],
   "source": [
    "tests = [100, 200, 400, 800, 1600]\n",
    "results = []\n",
    "\n",
    "for test in tests:\n",
    "    results.append(test_eliminate(test))"
   ]
  },
  {
   "cell_type": "code",
   "execution_count": 8,
   "id": "121ffbed",
   "metadata": {},
   "outputs": [
    {
     "name": "stdout",
     "output_type": "stream",
     "text": [
      "\n",
      "Solving Rx = w with n = 100 ·2^0 using eliminate takes approximately 0.018851304054260255 milliseconds. Using linalg.solve, it takes approximately 0.0028564929962158203 milliseconds.\n",
      "\n",
      "Solving Rx = w with n = 100 ·2^1 using eliminate takes approximately 0.08215148448944092 milliseconds. Using linalg.solve, it takes approximately 0.0030572891235351564 milliseconds.\n",
      "\n",
      "Solving Rx = w with n = 100 ·2^2 using eliminate takes approximately 0.362457275390625 milliseconds. Using linalg.solve, it takes approximately 0.00292820930480957 milliseconds.\n",
      "\n",
      "Solving Rx = w with n = 100 ·2^3 using eliminate takes approximately 1.924580717086792 milliseconds. Using linalg.solve, it takes approximately 0.01480712890625 milliseconds.\n",
      "\n",
      "Solving Rx = w with n = 100 ·2^4 using eliminate takes approximately 9.352365279197693 milliseconds. Using linalg.solve, it takes approximately 0.06510248184204101 milliseconds.\n"
     ]
    }
   ],
   "source": [
    "for i, result in enumerate(results):\n",
    "    print(f\"\\nSolving Rx = w with n = 100 ·2^{i} using eliminate takes approximately {result[0]} milliseconds. Using linalg.solve, it takes approximately {result[1]} milliseconds.\")\n"
   ]
  },
  {
   "cell_type": "markdown",
   "id": "3385c50a",
   "metadata": {},
   "source": [
    "Obviously based on these results solve is much faster and the gap widens as n increases. "
   ]
  },
  {
   "cell_type": "code",
   "execution_count": null,
   "id": "8aea7ac6",
   "metadata": {},
   "outputs": [],
   "source": []
  }
 ],
 "metadata": {
  "kernelspec": {
   "display_name": "Python 3",
   "language": "python",
   "name": "python3"
  },
  "language_info": {
   "codemirror_mode": {
    "name": "ipython",
    "version": 3
   },
   "file_extension": ".py",
   "mimetype": "text/x-python",
   "name": "python",
   "nbconvert_exporter": "python",
   "pygments_lexer": "ipython3",
   "version": "3.9.10"
  }
 },
 "nbformat": 4,
 "nbformat_minor": 5
}
