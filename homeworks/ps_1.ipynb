{
 "cells": [
  {
   "cell_type": "code",
   "execution_count": 6,
   "id": "8d054a3b",
   "metadata": {},
   "outputs": [],
   "source": [
    "import numpy as np"
   ]
  },
  {
   "cell_type": "code",
   "execution_count": 7,
   "id": "e9a07524",
   "metadata": {},
   "outputs": [],
   "source": [
    "v = np.random.randn(3)"
   ]
  },
  {
   "cell_type": "code",
   "execution_count": 8,
   "id": "34da81de",
   "metadata": {},
   "outputs": [
    {
     "name": "stdout",
     "output_type": "stream",
     "text": [
      "[-0.58879929 -0.1175572   0.3368309 ]\n"
     ]
    }
   ],
   "source": [
    "print(v)"
   ]
  },
  {
   "cell_type": "code",
   "execution_count": 9,
   "id": "a9edcc73",
   "metadata": {},
   "outputs": [],
   "source": [
    "u = v / np.sqrt(np.dot(v, v))"
   ]
  },
  {
   "cell_type": "code",
   "execution_count": 10,
   "id": "3613a2e5",
   "metadata": {},
   "outputs": [
    {
     "name": "stdout",
     "output_type": "stream",
     "text": [
      "[-0.85525718 -0.17075707  0.48926188]\n"
     ]
    }
   ],
   "source": [
    "print(u)"
   ]
  },
  {
   "cell_type": "code",
   "execution_count": 11,
   "id": "3def0750",
   "metadata": {},
   "outputs": [
    {
     "data": {
      "text/plain": [
       "1.0"
      ]
     },
     "execution_count": 11,
     "metadata": {},
     "output_type": "execute_result"
    }
   ],
   "source": [
    "# Just to test, should equal 1\n",
    "np.dot(u, u)"
   ]
  },
  {
   "cell_type": "code",
   "execution_count": 12,
   "id": "e51f86dd",
   "metadata": {},
   "outputs": [],
   "source": [
    "W = np.random.randn(30, 3)"
   ]
  },
  {
   "cell_type": "code",
   "execution_count": 13,
   "id": "18d750c3",
   "metadata": {},
   "outputs": [
    {
     "name": "stdout",
     "output_type": "stream",
     "text": [
      "[[ 0.307936    1.12868485  0.24930849]\n",
      " [-1.4077039   0.81512806  0.24050199]\n",
      " [-0.39417166 -0.9912869  -0.51885432]\n",
      " [ 1.2552625   1.23842005 -1.6802248 ]\n",
      " [-1.52196388  1.46554312  1.30977432]\n",
      " [ 0.55600382  0.06528487 -0.23888326]\n",
      " [ 0.43464298 -0.44949943  0.70807669]\n",
      " [-0.88112651  0.72863933 -0.04561416]\n",
      " [-0.41668925 -2.35139779 -0.21538567]\n",
      " [-0.45615827  1.00222432 -0.85153793]\n",
      " [-1.32061357 -0.50057071 -1.31060877]\n",
      " [-1.75363375  1.29340808  1.23857495]\n",
      " [ 0.72372769  0.04728526 -0.03791235]\n",
      " [-2.42680336 -1.33464018 -0.01752383]\n",
      " [ 0.15133708 -1.10421438  0.48541477]\n",
      " [-0.20468713 -0.47642881  1.37401456]\n",
      " [ 0.33778362  0.05676501 -1.22964181]\n",
      " [-0.53549708 -1.67915293  1.18276863]\n",
      " [-0.27085835 -0.49284999 -1.32063018]\n",
      " [-1.65308079 -0.3939893   0.90862172]\n",
      " [-0.41754893 -1.47461717  0.01397116]\n",
      " [-0.35168591 -1.33942022 -0.53130087]\n",
      " [-0.94869839  0.34300725 -0.38954961]\n",
      " [-0.93381756 -1.1432847  -0.38012748]\n",
      " [ 2.14690186 -0.02180964  0.65448861]\n",
      " [-0.6173042  -0.12821264 -0.45361592]\n",
      " [ 0.08509495  0.28026449 -0.84959288]\n",
      " [ 0.18623369 -0.0046595   0.52829218]\n",
      " [-3.16072253  1.22459847  0.77132524]\n",
      " [ 0.03466093  0.58297138 -2.95338942]]\n"
     ]
    }
   ],
   "source": [
    "print(W)"
   ]
  },
  {
   "cell_type": "code",
   "execution_count": 17,
   "id": "6081a150",
   "metadata": {},
   "outputs": [
    {
     "name": "stdout",
     "output_type": "stream",
     "text": [
      "0.9320633647200778\n"
     ]
    }
   ],
   "source": [
    "# Is there a better way to do this?\n",
    "dot_products = []\n",
    "\n",
    "for w in W:\n",
    "    dot_products.append(np.abs(np.dot(u,w)))\n",
    "    \n",
    "print(np.mean(dot_products))"
   ]
  }
 ],
 "metadata": {
  "kernelspec": {
   "display_name": "Python 3",
   "language": "python",
   "name": "python3"
  },
  "language_info": {
   "codemirror_mode": {
    "name": "ipython",
    "version": 3
   },
   "file_extension": ".py",
   "mimetype": "text/x-python",
   "name": "python",
   "nbconvert_exporter": "python",
   "pygments_lexer": "ipython3",
   "version": "3.8.8"
  }
 },
 "nbformat": 4,
 "nbformat_minor": 5
}
